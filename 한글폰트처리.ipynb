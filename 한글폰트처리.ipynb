{
 "cells": [
  {
   "cell_type": "code",
   "execution_count": 2,
   "metadata": {},
   "outputs": [],
   "source": [
    "import matplotlib.font_manager as fm"
   ]
  },
  {
   "cell_type": "code",
   "execution_count": null,
   "metadata": {},
   "outputs": [],
   "source": [
    "fm.fontManager.ttflist"
   ]
  },
  {
   "cell_type": "code",
   "execution_count": 4,
   "metadata": {},
   "outputs": [],
   "source": [
    "# help(fm)"
   ]
  },
  {
   "cell_type": "code",
   "execution_count": 7,
   "metadata": {},
   "outputs": [],
   "source": [
    "# for i in fm.fontManager.ttflist:\n",
    "#     print(i)"
   ]
  },
  {
   "cell_type": "code",
   "execution_count": 6,
   "metadata": {},
   "outputs": [],
   "source": [
    "fm.rcParams['font.family']='Malgun Gothic'"
   ]
  },
  {
   "cell_type": "code",
   "execution_count": 8,
   "metadata": {},
   "outputs": [
    {
     "data": {
      "image/png": "[encoded data removed]",
      "text/plain": [
       "<Figure size 432x288 with 1 Axes>"
      ]
     },
     "metadata": {
      "needs_background": "light"
     },
     "output_type": "display_data"
    }
   ],
   "source": [
    "import matplotlib.pyplot as plt\n",
    "import numpy as np\n",
    "x=np.arange(10)\n",
    "y=np.arange(10,20)\n",
    "plt.plot(x,y)\n",
    "plt.title('한글 그래프')\n",
    "plt.show()"
   ]
  },
  {
   "cell_type": "code",
   "execution_count": 11,
   "metadata": {},
   "outputs": [],
   "source": [
    "# help(plt.imread) # red green blue alpha(레드 그린 블루 알파)"
   ]
  },
  {
   "cell_type": "code",
   "execution_count": 12,
   "metadata": {},
   "outputs": [
    {
     "data": {
      "text/plain": [
       "array([[[227, 222,  16],\n",
       "        [252, 246,  72],\n",
       "        [238, 233, 105],\n",
       "        ...,\n",
       "        [225, 222, 145],\n",
       "        [244, 241, 124],\n",
       "        [224, 222,  52]],\n",
       "\n",
       "       [[255, 247,  76],\n",
       "        [255, 255, 129],\n",
       "        [255, 255, 168],\n",
       "        ...,\n",
       "        [255, 254, 190],\n",
       "        [255, 255, 158],\n",
       "        [238, 234,  75]],\n",
       "\n",
       "       [[245, 231, 106],\n",
       "        [255, 255, 166],\n",
       "        [255, 253, 207],\n",
       "        ...,\n",
       "        [255, 255, 212],\n",
       "        [255, 255, 173],\n",
       "        [241, 234,  91]],\n",
       "\n",
       "       ...,\n",
       "\n",
       "       [[231, 234, 127],\n",
       "        [255, 255, 171],\n",
       "        [255, 255, 193],\n",
       "        ...,\n",
       "        [255, 255, 189],\n",
       "        [255, 255, 159],\n",
       "        [237, 236,  92]],\n",
       "\n",
       "       [[244, 247, 108],\n",
       "        [255, 255, 142],\n",
       "        [255, 255, 158],\n",
       "        ...,\n",
       "        [255, 255, 151],\n",
       "        [255, 255, 134],\n",
       "        [235, 236,  72]],\n",
       "\n",
       "       [[220, 220,  48],\n",
       "        [248, 247,  81],\n",
       "        [240, 237,  84],\n",
       "        ...,\n",
       "        [234, 229,  83],\n",
       "        [250, 247,  84],\n",
       "        [225, 223,  42]]], dtype=uint8)"
      ]
     },
     "execution_count": 12,
     "metadata": {},
     "output_type": "execute_result"
    }
   ],
   "source": [
    "plt.imread('cat.jpg')"
   ]
  },
  {
   "cell_type": "code",
   "execution_count": 13,
   "metadata": {},
   "outputs": [],
   "source": [
    "cat_arr=plt.imread('cat.jpg')"
   ]
  },
  {
   "cell_type": "code",
   "execution_count": 14,
   "metadata": {},
   "outputs": [
    {
     "data": {
      "text/plain": [
       "(168, 300, 3)"
      ]
     },
     "execution_count": 14,
     "metadata": {},
     "output_type": "execute_result"
    }
   ],
   "source": [
    "cat_arr.shape"
   ]
  },
  {
   "cell_type": "code",
   "execution_count": 19,
   "metadata": {},
   "outputs": [
    {
     "data": {
      "text/plain": [
       "(168, 300)"
      ]
     },
     "execution_count": 19,
     "metadata": {},
     "output_type": "execute_result"
    }
   ],
   "source": [
    "cat_arr[:,:,0].shape"
   ]
  },
  {
   "cell_type": "code",
   "execution_count": 15,
   "metadata": {},
   "outputs": [
    {
     "data": {
      "text/plain": [
       "array([[227, 252, 238, ..., 225, 244, 224],\n",
       "       [255, 255, 255, ..., 255, 255, 238],\n",
       "       [245, 255, 255, ..., 255, 255, 241],\n",
       "       ...,\n",
       "       [231, 255, 255, ..., 255, 255, 237],\n",
       "       [244, 255, 255, ..., 255, 255, 235],\n",
       "       [220, 248, 240, ..., 234, 250, 225]], dtype=uint8)"
      ]
     },
     "execution_count": 15,
     "metadata": {},
     "output_type": "execute_result"
    }
   ],
   "source": [
    "cat_arr[:,:,0]"
   ]
  },
  {
   "cell_type": "code",
   "execution_count": 16,
   "metadata": {},
   "outputs": [
    {
     "data": {
      "text/plain": [
       "array([[222, 246, 233, ..., 222, 241, 222],\n",
       "       [247, 255, 255, ..., 254, 255, 234],\n",
       "       [231, 255, 253, ..., 255, 255, 234],\n",
       "       ...,\n",
       "       [234, 255, 255, ..., 255, 255, 236],\n",
       "       [247, 255, 255, ..., 255, 255, 236],\n",
       "       [220, 247, 237, ..., 229, 247, 223]], dtype=uint8)"
      ]
     },
     "execution_count": 16,
     "metadata": {},
     "output_type": "execute_result"
    }
   ],
   "source": [
    "cat_arr[:,:,1]"
   ]
  },
  {
   "cell_type": "code",
   "execution_count": 17,
   "metadata": {},
   "outputs": [
    {
     "data": {
      "text/plain": [
       "array([[ 16,  72, 105, ..., 145, 124,  52],\n",
       "       [ 76, 129, 168, ..., 190, 158,  75],\n",
       "       [106, 166, 207, ..., 212, 173,  91],\n",
       "       ...,\n",
       "       [127, 171, 193, ..., 189, 159,  92],\n",
       "       [108, 142, 158, ..., 151, 134,  72],\n",
       "       [ 48,  81,  84, ...,  83,  84,  42]], dtype=uint8)"
      ]
     },
     "execution_count": 17,
     "metadata": {},
     "output_type": "execute_result"
    }
   ],
   "source": [
    "cat_arr[:,:,2]"
   ]
  },
  {
   "cell_type": "code",
   "execution_count": 18,
   "metadata": {},
   "outputs": [
    {
     "data": {
      "text/plain": [
       "array([[ 16,  72, 105, ..., 145, 124,  52],\n",
       "       [ 76, 129, 168, ..., 190, 158,  75],\n",
       "       [106, 166, 207, ..., 212, 173,  91],\n",
       "       ...,\n",
       "       [127, 171, 193, ..., 189, 159,  92],\n",
       "       [108, 142, 158, ..., 151, 134,  72],\n",
       "       [ 48,  81,  84, ...,  83,  84,  42]], dtype=uint8)"
      ]
     },
     "execution_count": 18,
     "metadata": {},
     "output_type": "execute_result"
    }
   ],
   "source": [
    "cat_arr[:,:,-1]"
   ]
  },
  {
   "cell_type": "code",
   "execution_count": 20,
   "metadata": {},
   "outputs": [],
   "source": [
    "cat_img=plt.imread('cat.jpg')"
   ]
  },
  {
   "cell_type": "code",
   "execution_count": 27,
   "metadata": {},
   "outputs": [
    {
     "data": {
      "image/png": "[encoded data removed]",
      "text/plain": [
       "<Figure size 432x288 with 1 Axes>"
      ]
     },
     "metadata": {},
     "output_type": "display_data"
    }
   ],
   "source": [
    "plt.imshow(cat_img)\n",
    "plt.xticks([])\n",
    "plt.yticks([])\n",
    "plt.show()"
   ]
  },
  {
   "cell_type": "code",
   "execution_count": null,
   "metadata": {},
   "outputs": [],
   "source": []
  }
 ],
 "metadata": {
  "kernelspec": {
   "display_name": "Python 3",
   "language": "python",
   "name": "python3"
  },
  "language_info": {
   "codemirror_mode": {
    "name": "ipython",
    "version": 3
   },
   "file_extension": ".py",
   "mimetype": "text/x-python",
   "name": "python",
   "nbconvert_exporter": "python",
   "pygments_lexer": "ipython3",
   "version": "3.8.5"
  }
 },
 "nbformat": 4,
 "nbformat_minor": 4
}
